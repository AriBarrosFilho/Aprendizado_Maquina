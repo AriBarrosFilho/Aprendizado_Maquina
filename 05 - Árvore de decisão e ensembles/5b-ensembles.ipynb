{
 "cells": [
  {
   "cell_type": "markdown",
   "id": "53184400-7d49-42be-811a-7a845412b39c",
   "metadata": {},
   "source": [
    "# Métodos de Ensemble"
   ]
  },
  {
   "cell_type": "markdown",
   "id": "be24ff56-120a-4d1e-a0d7-08e01e281373",
   "metadata": {
    "tags": []
   },
   "source": [
    "### Imports"
   ]
  },
  {
   "cell_type": "code",
   "execution_count": 49,
   "id": "1342e484-b400-4536-a1ab-ca89cfb47cdc",
   "metadata": {
    "jupyter": {
     "source_hidden": true
    },
    "tags": []
   },
   "outputs": [],
   "source": [
    "import numpy as np\n",
    "import matplotlib.pyplot as plt\n",
    "import pandas as pd\n",
    "\n",
    "from ipywidgets import interact, FloatLogSlider, FloatSlider\n",
    "\n",
    "from sklearn.model_selection import train_test_split\n",
    "from sklearn.pipeline import make_pipeline\n",
    "from sklearn.preprocessing import PolynomialFeatures, StandardScaler\n",
    "from sklearn.metrics import mean_squared_error, accuracy_score\n",
    "from sklearn.datasets import make_blobs, make_moons, make_circles\n",
    "from sklearn.linear_model import LogisticRegression\n",
    "from sklearn.tree import DecisionTreeClassifier, plot_tree"
   ]
  },
  {
   "cell_type": "code",
   "execution_count": 50,
   "id": "e607f933-4856-4505-8b9d-224eefa08fdb",
   "metadata": {
    "jupyter": {
     "source_hidden": true
    },
    "tags": []
   },
   "outputs": [],
   "source": [
    "def plot_data(X, y, model=None, **kwargs):\n",
    "    if y.dtype.kind == 'f':\n",
    "        return plot_data_reg(X, y, model, **kwargs)\n",
    "    else:\n",
    "        return plot_data_clf(X, y, model, **kwargs)        \n",
    "\n",
    "def gen_data_reg(n_samples, random_state):\n",
    "    rng = np.random.RandomState(random_state)\n",
    "    x = rng.uniform(2, 12, size=n_samples)\n",
    "    y = 70 + 8*x + 10*rng.standard_normal(size=n_samples)\n",
    "    X = x.reshape(-1, 1)\n",
    "    return X, y\n",
    "\n",
    "def plot_data_reg(X, y, model=None, N=1000):\n",
    "    plt.plot(X, y, 'b.', label='data');\n",
    "    plt.xlabel('x')\n",
    "    plt.ylabel('y')\n",
    "    if model is not None:\n",
    "        plt.plot(X, model.predict(X), 'r.')\n",
    "        x = np.linspace(X.min(), X.max(), N)\n",
    "        plt.plot(x, model.predict(x.reshape(-1, 1)), 'r-', label=type(model).__name__)\n",
    "    plt.legend()\n",
    "    plt.grid()\n",
    "    return\n",
    "\n",
    "def gen_data_clf(n_samples=20, n_classes=2, overlap=0, x_scale=[0,1], random_state=None):\n",
    "    '''Generate 1-D classification dataset'''\n",
    "    assert overlap <= 1\n",
    "    rng = np.random.RandomState(random_state)\n",
    "    X = np.zeros((n_samples, 1))\n",
    "    y = np.zeros(n_samples, dtype=int)\n",
    "    for i in range(n_samples):\n",
    "        k = i % n_classes\n",
    "        X[i, 0] = (k*(1-overlap) + rng.uniform())/((n_classes-1)*(1-overlap) + 1)\n",
    "        y[i] = k\n",
    "    X = x_scale[0] + (x_scale[1] - x_scale[0])*X\n",
    "    return X, y\n",
    "\n",
    "def plot_data_clf(X, y, model=None, heatmap=False, margin=True, support=True, errors=False,\n",
    "              legend=True, colors=['bo','rx','gd','ms','c^','yP'], reverse_colors=False, N=100, gap=1e-9):\n",
    "    '''Plot 1-D or 2-D classification dataset and classifier decision regions'''\n",
    "    assert len(X.shape) == 2 and len(y.shape) == 1\n",
    "    classes = list(np.unique(y))\n",
    "    if model is not None:\n",
    "        assert set(classes) <= set(model.classes_)\n",
    "        classes = list(model.classes_)\n",
    "    assert len(classes) <= len(colors)\n",
    "    cmap = 'bwr'\n",
    "    if reverse_colors:\n",
    "        colors = colors[1::-1] + colors[2:]\n",
    "        cmap = 'bwr_r'\n",
    "    dim = X.shape[1]\n",
    "    assert 0 < dim <= 2\n",
    "    if dim == 1:\n",
    "        for i in range(len(classes)):\n",
    "            plt.plot(X[y == classes[i]], np.zeros(np.sum(y == classes[i])), colors[i], label=classes[i])\n",
    "        plt.gca().axes.get_yaxis().set_ticks([])\n",
    "        plt.xlabel('x')\n",
    "    else:\n",
    "        for i in range(len(classes)):\n",
    "            plt.plot(X[y == classes[i], 0], X[y == classes[i], 1], colors[i], label=classes[i])\n",
    "        plt.xlabel('x1')\n",
    "        plt.ylabel('x2')\n",
    "    if legend:\n",
    "        plt.legend()\n",
    "    if model is None:\n",
    "        return\n",
    "    x1_min, x1_max = X[:,0].min()-gap, X[:,0].max()+gap\n",
    "    if dim == 1:\n",
    "        x2_min, x2_max = -1, 1\n",
    "        N2 = 2\n",
    "    else:\n",
    "        x2_min, x2_max = X[:,1].min()-gap, X[:,1].max()+gap\n",
    "        N2 = N\n",
    "    xx1, xx2 = np.meshgrid(np.linspace(x1_min, x1_max, N), np.linspace(x2_min, x2_max, N2))\n",
    "    if dim == 1:\n",
    "        XX = np.c_[xx1.reshape(-1)]\n",
    "    else:\n",
    "        XX = np.c_[xx1.reshape(-1), xx2.reshape(-1)]\n",
    "    if errors:\n",
    "        err = model.predict(X) != y\n",
    "        vert = X[err, 1] if dim == 2 else np.zeros(np.sum(err))\n",
    "        plt.plot(X[err, 0], vert, 'ks', mfc='none', markersize=10)\n",
    "    if len(classes) > 2:\n",
    "        y_pred = model.predict(XX)\n",
    "        y_pred = np.array([classes.index(a) for a in y_pred])\n",
    "        y_pred = y_pred.reshape(xx1.shape)\n",
    "        levels = np.arange(len(classes) + 1) - 0.5\n",
    "        plt.contour(xx1, xx2, y_pred, levels, colors='k', linewidths=1)\n",
    "        plt.contourf(xx1, xx2, y_pred, levels, colors=[c[0] for c in colors], alpha=0.25)\n",
    "        return\n",
    "    if hasattr(model, 'predict_proba'):\n",
    "        p = model.predict_proba(XX)[:,1].reshape(xx1.shape)\n",
    "        plt.contour(xx1, xx2, p, levels=[0.5], colors='k', linewidths=1)\n",
    "        plt.contourf(xx1, xx2, p, levels=[-np.inf, 0.5, np.inf], colors=[c[0] for c in colors], alpha=0.25)\n",
    "        if heatmap:\n",
    "            plt.contourf(xx1, xx2, p, levels=100, cmap=cmap, vmin=-1, vmax=2)\n",
    "    else:\n",
    "        z = model.decision_function(XX).reshape(xx1.shape)\n",
    "        plt.contour(xx1, xx2, z, levels=[0], colors='k', linewidths=1)\n",
    "        plt.contourf(xx1, xx2, z, levels=[-np.inf, 0, np.inf], colors=[c[0] for c in colors], alpha=0.25)\n",
    "        if margin:\n",
    "            plt.contourf(xx1, xx2, z, levels=[-1, 0, 1], cmap=cmap, vmin=-3, vmax=3)\n",
    "        if heatmap:\n",
    "            a = np.max(np.abs(z))*2\n",
    "            plt.contourf(xx1, xx2, z, 100, cmap=cmap, vmin=-a, vmax=a)\n",
    "        if support and hasattr(model, 'support_'):\n",
    "            S = X[model.support_]\n",
    "            if dim == 1:\n",
    "                S = np.c_[S, np.zeros(S.shape[0])]\n",
    "            plt.plot(*S.T, 'go', mfc='none', ms=12)\n",
    "    return"
   ]
  },
  {
   "cell_type": "markdown",
   "id": "12f0b02b-f30e-4e6a-a957-006868d897d8",
   "metadata": {},
   "source": [
    "## Ensembles de Votação"
   ]
  },
  {
   "cell_type": "code",
   "execution_count": 20,
   "id": "d5e7684b-eb5a-413f-a6c4-7e814c799725",
   "metadata": {},
   "outputs": [
    {
     "data": {
      "image/png": "[encoded data removed]",
      "text/plain": [
       "<Figure size 432x288 with 1 Axes>"
      ]
     },
     "metadata": {
      "needs_background": "light"
     },
     "output_type": "display_data"
    }
   ],
   "source": [
    "X_train, y_train = make_moons(n_samples=300, noise=0.3, random_state=7)\n",
    "X_val,   y_val   = make_moons(n_samples=10000, noise=0.3, random_state=1)\n",
    "X_test,  y_test  = make_moons(n_samples=10000, noise=0.3, random_state=2)\n",
    "plot_data(X_train, y_train)"
   ]
  },
  {
   "cell_type": "code",
   "execution_count": 21,
   "id": "4cb8629c-538c-4484-9810-c0bd94943aad",
   "metadata": {},
   "outputs": [
    {
     "data": {
      "application/vnd.jupyter.widget-view+json": {
       "model_id": "21761ebed1114e2b9677576fc27a9852",
       "version_major": 2,
       "version_minor": 0
      },
      "text/plain": [
       "interactive(children=(Checkbox(value=True, description='weak_tree'), Checkbox(value=False, description='soft_v…"
      ]
     },
     "metadata": {},
     "output_type": "display_data"
    }
   ],
   "source": [
    "from sklearn.ensemble import VotingClassifier\n",
    "\n",
    "@interact(weak_tree=True, soft_voting=False)\n",
    "def _(weak_tree, soft_voting):\n",
    "    model = VotingClassifier(\n",
    "        [('dt', DecisionTreeClassifier(max_depth=1 if weak_tree else None, random_state=0)),\n",
    "         ('lr', LogisticRegression(penalty='none')), \n",
    "         ('lr2', make_pipeline(PolynomialFeatures(2), LogisticRegression(penalty='none')))], \n",
    "        voting='soft' if soft_voting else 'hard')\n",
    "    model.fit(X_train, y_train)\n",
    "    try:\n",
    "        model.predict_proba(X_train)\n",
    "        print('predict_proba is available')\n",
    "    except Exception as e:\n",
    "        print(e)\n",
    "    print('\\nVal accuracy:')\n",
    "    for estimator in model.estimators_ + [model]:\n",
    "        print(f'{type(estimator).__name__:>22}: {estimator.score(X_val, y_val):.2%}')"
   ]
  },
  {
   "cell_type": "code",
   "execution_count": 24,
   "id": "1f5f221f-fc88-4b11-b5a7-f779c38e4374",
   "metadata": {},
   "outputs": [
    {
     "name": "stdout",
     "output_type": "stream",
     "text": [
      "predict_proba is not available when  probability=False\n"
     ]
    }
   ],
   "source": [
    "from sklearn.svm import SVC\n",
    "try:\n",
    "    VotingClassifier([('svc', SVC() #probability=True)\n",
    "                      )], voting='soft').fit(X_train, y_train).predict(X_train)\n",
    "    print('OK')\n",
    "except Exception as e:\n",
    "    print(e)"
   ]
  },
  {
   "cell_type": "markdown",
   "id": "ce85afac-4f47-47ca-a0b5-a2a2eb4d7eb4",
   "metadata": {},
   "source": [
    "O SVC por padrão não fornece a função `predict_proba`; para isso, é necessário configurar o parâmetro `probability=True`."
   ]
  },
  {
   "cell_type": "code",
   "execution_count": 25,
   "id": "ba638a86-5af5-4684-9c12-449e212bdea6",
   "metadata": {},
   "outputs": [],
   "source": [
    "from sklearn.ensemble import VotingRegressor"
   ]
  },
  {
   "cell_type": "markdown",
   "id": "82d83ffa-2013-4023-97b1-679c453babf0",
   "metadata": {},
   "source": [
    "## Bagging e Pasting"
   ]
  },
  {
   "cell_type": "code",
   "execution_count": 26,
   "id": "dc034f18-8cdd-4312-9cc5-6cee56abdba2",
   "metadata": {},
   "outputs": [
    {
     "data": {
      "application/vnd.jupyter.widget-view+json": {
       "model_id": "50b54228dfac4f9d8727b644235d5a1b",
       "version_major": 2,
       "version_minor": 0
      },
      "text/plain": [
       "interactive(children=(IntSlider(value=1, description='n_estimators', max=1001, min=1, step=10), FloatSlider(va…"
      ]
     },
     "metadata": {},
     "output_type": "display_data"
    }
   ],
   "source": [
    "from sklearn.ensemble import BaggingClassifier\n",
    "\n",
    "@interact(n_estimators=(1,1001,10), max_samples=(0.05,1,0.05), bootstrap=False)\n",
    "def _(n_estimators=1, max_samples=1.0, bootstrap=False,):\n",
    "    model = BaggingClassifier(DecisionTreeClassifier(), n_estimators=n_estimators, max_samples=max_samples, bootstrap=bootstrap, random_state=None)\n",
    "    model.fit(X_train, y_train)\n",
    "    if bootstrap:\n",
    "        print('Method: Bagging')\n",
    "    else:\n",
    "        print('Method: Pasting')\n",
    "    print(f'\\n  Val accuracy: {model.score(X_val, y_val):.2%}\\n')\n",
    "    print(model.estimators_[:3], '(...)' if len(model.estimators_) > 3 else '', '\\n')"
   ]
  },
  {
   "cell_type": "markdown",
   "id": "51513fa0-1af9-40d3-8cab-10d1a35b6275",
   "metadata": {},
   "source": [
    "## Floresta Aleatória"
   ]
  },
  {
   "cell_type": "code",
   "execution_count": 28,
   "id": "ccb5de43-07d0-4e36-81de-ba1ed9b9671e",
   "metadata": {},
   "outputs": [
    {
     "name": "stdout",
     "output_type": "stream",
     "text": [
      "Val accuracy (Random Forest): 89.82%\n"
     ]
    },
    {
     "data": {
      "image/png": "[encoded data removed]",
      "text/plain": [
       "<Figure size 432x288 with 1 Axes>"
      ]
     },
     "metadata": {
      "needs_background": "light"
     },
     "output_type": "display_data"
    }
   ],
   "source": [
    "from sklearn.ensemble import RandomForestClassifier, RandomForestRegressor\n",
    "\n",
    "#model = BaggingClassifier(DecisionTreeClassifier(max_features='auto'), n_estimators=100)\n",
    "model = RandomForestClassifier(n_estimators=100)\n",
    "model.fit(X_train, y_train)\n",
    "print(f'Val accuracy (Random Forest): {model.score(X_val, y_val):.2%}')\n",
    "plot_data(X_train, y_train, model, N=300)"
   ]
  },
  {
   "cell_type": "code",
   "execution_count": null,
   "id": "ff04f6be-f119-4a50-9092-eb11906aead6",
   "metadata": {},
   "outputs": [],
   "source": []
  },
  {
   "cell_type": "code",
   "execution_count": 32,
   "id": "6645e1ea-e7e5-4d39-b7db-7c37b56d2ffc",
   "metadata": {},
   "outputs": [
    {
     "data": {
      "text/plain": [
       "petal length (cm)    0.460445\n",
       "petal width (cm)     0.424116\n",
       "sepal length (cm)    0.090908\n",
       "sepal width (cm)     0.024531\n",
       "dtype: float64"
      ]
     },
     "execution_count": 32,
     "metadata": {},
     "output_type": "execute_result"
    }
   ],
   "source": [
    "from sklearn.datasets import load_iris\n",
    "iris = load_iris()\n",
    "model = RandomForestClassifier(n_estimators=100, random_state=0)\n",
    "model.fit(iris['data'], iris['target'])\n",
    "pd.Series(model.feature_importances_, index=iris['feature_names']).sort_values(ascending=False)"
   ]
  },
  {
   "cell_type": "markdown",
   "id": "67658706-8a55-400e-917d-b708024ec862",
   "metadata": {},
   "source": []
  },
  {
   "cell_type": "markdown",
   "id": "99144655-f563-4396-aabd-17ca0a11985b",
   "metadata": {},
   "source": [
    "## Gradient Boosting"
   ]
  },
  {
   "cell_type": "code",
   "execution_count": 37,
   "id": "ecaa6262-d7ab-43fd-aab4-34576b1efbe9",
   "metadata": {},
   "outputs": [
    {
     "name": "stdout",
     "output_type": "stream",
     "text": [
      "(100, 1) (100,)\n"
     ]
    },
    {
     "data": {
      "image/png": "[encoded data removed]",
      "text/plain": [
       "<Figure size 432x288 with 1 Axes>"
      ]
     },
     "metadata": {
      "needs_background": "light"
     },
     "output_type": "display_data"
    }
   ],
   "source": [
    "X_train, y_train = gen_data_reg(n_samples=100, random_state=27)\n",
    "X_val, y_val = gen_data_reg(n_samples=10000, random_state=1)\n",
    "print(X_train.shape, y_train.shape)\n",
    "plot_data(X_train, y_train)"
   ]
  },
  {
   "cell_type": "code",
   "execution_count": 38,
   "id": "5c1302cf-5e80-451f-aa40-0b3c564ac392",
   "metadata": {},
   "outputs": [],
   "source": [
    "from sklearn.ensemble import GradientBoostingRegressor, GradientBoostingClassifier"
   ]
  },
  {
   "cell_type": "code",
   "execution_count": 39,
   "id": "9abf7872-0c05-4d24-baeb-bd36446ee4fa",
   "metadata": {},
   "outputs": [
    {
     "data": {
      "application/vnd.jupyter.widget-view+json": {
       "model_id": "8bb2055ce61f4074a5968d8070dd4c9c",
       "version_major": 2,
       "version_minor": 0
      },
      "text/plain": [
       "interactive(children=(IntSlider(value=1, description='n_estimators', min=1), FloatSlider(value=1.0, descriptio…"
      ]
     },
     "metadata": {},
     "output_type": "display_data"
    }
   ],
   "source": [
    "@interact(n_estimators=(1,100), learning_rate=(0.1, 1, 0.1), max_depth=(1,20))\n",
    "def _(n_estimators=1, learning_rate=1, max_depth=1):\n",
    "    model = GradientBoostingRegressor(n_estimators=n_estimators, learning_rate=learning_rate, max_depth=max_depth, random_state=0)\n",
    "    model.fit(X_train, y_train)\n",
    "    print(f'\\nTrain MSE: {mean_squared_error(y_train, model.predict(X_train))}')\n",
    "    print(f'  Val MSE: {mean_squared_error(y_val, model.predict(X_val))}\\n')\n",
    "    plt.figure(figsize=(12, 4))\n",
    "    plt.subplot(1, 2, 1)\n",
    "    y_pred = model.init_.predict(X_train)\n",
    "    for j in range(n_estimators - 1):\n",
    "        y_pred += learning_rate * model.estimators_[j][0].predict(X_train)\n",
    "    plot_data(X_train, y_train - y_pred)\n",
    "    x = np.linspace(X_train.min(), X_train.max(), 1000)\n",
    "    plt.plot(x, model.estimators_[-1][0].predict(x.reshape(-1, 1)), 'g-')\n",
    "    plt.legend(['Residuals', 'Estimator #' + str(n_estimators)], loc='upper left')\n",
    "    plt.subplot(1, 2, 2)\n",
    "    plot_data(X_train, y_train, model)\n",
    "    plt.legend(['Data', 'GB (n_estimators = ' + str(n_estimators) + ')'])"
   ]
  },
  {
   "cell_type": "code",
   "execution_count": null,
   "id": "d6c5edbc-dced-40e4-91ec-f6511528052c",
   "metadata": {},
   "outputs": [],
   "source": []
  },
  {
   "cell_type": "code",
   "execution_count": 41,
   "id": "be6cc1cd-305a-4621-b15f-b1f22e904f8f",
   "metadata": {},
   "outputs": [
    {
     "data": {
      "image/png": "[encoded data removed]",
      "text/plain": [
       "<Figure size 432x288 with 1 Axes>"
      ]
     },
     "metadata": {
      "needs_background": "light"
     },
     "output_type": "display_data"
    }
   ],
   "source": [
    "X_train, y_train = make_moons(n_samples=300, noise=0.3, random_state=7)\n",
    "X_val,   y_val   = make_moons(n_samples=10000, noise=0.3, random_state=1)\n",
    "X_test,  y_test  = make_moons(n_samples=10000, noise=0.3, random_state=2)\n",
    "plot_data(X_train, y_train)"
   ]
  },
  {
   "cell_type": "code",
   "execution_count": 42,
   "id": "07c3268f-31b4-414c-be42-1e9094beb964",
   "metadata": {},
   "outputs": [
    {
     "data": {
      "application/vnd.jupyter.widget-view+json": {
       "model_id": "388e4c4d71604dca87b08a9f52354316",
       "version_major": 2,
       "version_minor": 0
      },
      "text/plain": [
       "interactive(children=(IntSlider(value=1, description='n_estimators', min=1), FloatSlider(value=1.0, descriptio…"
      ]
     },
     "metadata": {},
     "output_type": "display_data"
    }
   ],
   "source": [
    "@interact(n_estimators=(1,100), learning_rate=(0.1, 1, 0.1), max_depth=(1,20))\n",
    "def _(n_estimators=1, learning_rate=1, max_depth=1):\n",
    "    model = GradientBoostingClassifier(n_estimators=n_estimators, learning_rate=learning_rate, max_depth=max_depth, random_state=0)\n",
    "    model.fit(X_train, y_train)\n",
    "    print(f'Train accuracy: {model.score(X_train, y_train):.2%}')\n",
    "    print(f'  Val accuracy: {model.score(X_val, y_val):.2%}')\n",
    "    plot_data(X_train, y_train, model)"
   ]
  },
  {
   "cell_type": "code",
   "execution_count": 43,
   "id": "b34b4f85-c266-4032-a343-36a3db1c9572",
   "metadata": {},
   "outputs": [
    {
     "data": {
      "application/vnd.jupyter.widget-view+json": {
       "model_id": "5514501ff5ab4d618063d03c208be332",
       "version_major": 2,
       "version_minor": 0
      },
      "text/plain": [
       "interactive(children=(FloatSlider(value=1.0, description='learning_rate', max=1.0, min=0.1), IntSlider(value=1…"
      ]
     },
     "metadata": {},
     "output_type": "display_data"
    }
   ],
   "source": [
    "n_estimators = 100\n",
    "@interact(learning_rate=(0.1, 1, 0.1), max_depth=(1,10))\n",
    "def _(learning_rate=1, max_depth=1):\n",
    "    model = GradientBoostingClassifier(n_estimators=n_estimators, learning_rate=learning_rate, max_depth=max_depth, random_state=0)\n",
    "    model.fit(X_train, y_train)\n",
    "    train_accs = np.zeros(n_estimators)\n",
    "    val_accs = np.zeros(n_estimators)\n",
    "    ns = np.arange(1, n_estimators+1)\n",
    "    for i, y_pred in enumerate(model.staged_predict(X_train)):\n",
    "        train_accs[i] = accuracy_score(y_train, y_pred)\n",
    "    for i, y_pred in enumerate(model.staged_predict(X_val)):\n",
    "        val_accs[i] = accuracy_score(y_val, y_pred)\n",
    "    j = val_accs.argmax()\n",
    "    print(f'Best val accuracy (n_estimators = {ns[j]}): {val_accs[j]:.2%}')\n",
    "    plt.plot(ns, train_accs, 'b.-', label='Train accuracy')\n",
    "    plt.plot(ns, val_accs, 'r.-', label='Val accuracy')\n",
    "    plt.legend()\n",
    "    plt.grid()\n",
    "    plt.xlabel('n_estimators')"
   ]
  },
  {
   "cell_type": "code",
   "execution_count": 45,
   "id": "38aa78a6-289b-4728-ada5-953d1794346d",
   "metadata": {},
   "outputs": [
    {
     "data": {
      "application/vnd.jupyter.widget-view+json": {
       "model_id": "d05dfaa4a0274671b7e83d20f53768bf",
       "version_major": 2,
       "version_minor": 0
      },
      "text/plain": [
       "interactive(children=(FloatSlider(value=1.0, description='learning_rate', max=1.0, min=0.1), IntSlider(value=1…"
      ]
     },
     "metadata": {},
     "output_type": "display_data"
    }
   ],
   "source": [
    "#Early stopping\n",
    "\n",
    "n_estimators = 1000\n",
    "@interact(learning_rate=(0.1, 1, 0.1), max_depth=(1,10))\n",
    "def _(learning_rate=1, max_depth=1):\n",
    "    model = GradientBoostingClassifier(n_estimators=n_estimators, learning_rate=learning_rate, max_depth=max_depth, n_iter_no_change=10, random_state=0)\n",
    "    model.fit(X_train, y_train)\n",
    "    print(f'Best val accuracy (n_estimators = {model.n_estimators_}): {model.score(X_val, y_val):.2%}')"
   ]
  },
  {
   "cell_type": "code",
   "execution_count": 48,
   "id": "8ff4b347-5a30-4ee5-9eb9-d0e96e2ec914",
   "metadata": {},
   "outputs": [
    {
     "name": "stdout",
     "output_type": "stream",
     "text": [
      "  Val accuracy: 89.44%\n"
     ]
    },
    {
     "data": {
      "image/png": "[encoded data removed]",
      "text/plain": [
       "<Figure size 432x288 with 1 Axes>"
      ]
     },
     "metadata": {
      "needs_background": "light"
     },
     "output_type": "display_data"
    }
   ],
   "source": [
    "model = GradientBoostingClassifier(n_estimators=36, learning_rate=0.1, n_iter_no_change=10, max_depth=5)\n",
    "model.fit(X_train, y_train)\n",
    "print(f'  Val accuracy: {model.score(X_val, y_val):.2%}')\n",
    "plot_data(X_train, y_train, model, N=300)"
   ]
  },
  {
   "cell_type": "code",
   "execution_count": null,
   "id": "3081ce38-e48d-42a7-b7ae-db17495f5c6e",
   "metadata": {},
   "outputs": [],
   "source": []
  },
  {
   "cell_type": "markdown",
   "id": "baba00fe-fe5e-496f-9752-d131971e3a3d",
   "metadata": {},
   "source": [
    "Outras bibliotecas de Gradient Boosting (todas com suporte a GPU):\n",
    "- XGBoost: https://xgboost.readthedocs.io/\n",
    "- CatBoost: https://catboost.ai/\n",
    "- LightGBM: https://lightgbm.readthedocs.io/"
   ]
  },
  {
   "cell_type": "code",
   "execution_count": null,
   "id": "b60153aa-1015-4244-a34e-f14a8682e139",
   "metadata": {},
   "outputs": [],
   "source": [
    "#!pip install xgboost\n",
    "#!pip install catboost\n",
    "#!pip install lightgbm"
   ]
  }
 ],
 "metadata": {
  "kernelspec": {
   "display_name": "Python 3",
   "language": "python",
   "name": "python3"
  },
  "language_info": {
   "codemirror_mode": {
    "name": "ipython",
    "version": 3
   },
   "file_extension": ".py",
   "mimetype": "text/x-python",
   "name": "python",
   "nbconvert_exporter": "python",
   "pygments_lexer": "ipython3",
   "version": "3.8.8"
  }
 },
 "nbformat": 4,
 "nbformat_minor": 5
}
